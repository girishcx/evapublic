{
  "nbformat": 4,
  "nbformat_minor": 0,
  "metadata": {
    "colab": {
      "name": "Quiz 7.ipynb",
      "version": "0.3.2",
      "provenance": [],
      "collapsed_sections": []
    },
    "kernelspec": {
      "name": "python3",
      "display_name": "Python 3"
    },
    "accelerator": "GPU"
  },
  "cells": [
    {
      "cell_type": "markdown",
      "metadata": {
        "id": "aNyZv-Ec52ot",
        "colab_type": "text"
      },
      "source": [
        "# **Import Libraries and modules**"
      ]
    },
    {
      "cell_type": "code",
      "metadata": {
        "id": "3m3w1Cw49Zkt",
        "colab_type": "code",
        "colab": {
          "base_uri": "https://localhost:8080/",
          "height": 51
        },
        "outputId": "9e549a8e-4531-4c52-c042-dcb802ea6195"
      },
      "source": [
        "# https://keras.io/\n",
        "!pip install -q keras\n",
        "import keras\n",
        "import datetime\n",
        "print(datetime.datetime.now())"
      ],
      "execution_count": 1,
      "outputs": [
        {
          "output_type": "stream",
          "text": [
            "Using TensorFlow backend.\n"
          ],
          "name": "stderr"
        },
        {
          "output_type": "stream",
          "text": [
            "2019-06-09 14:52:26.953143\n"
          ],
          "name": "stdout"
        }
      ]
    },
    {
      "cell_type": "code",
      "metadata": {
        "id": "Eso6UHE080D4",
        "colab_type": "code",
        "colab": {
          "base_uri": "https://localhost:8080/",
          "height": 34
        },
        "outputId": "5bb97de9-0604-4180-ac08-7f781e5ec04d"
      },
      "source": [
        "import numpy as np\n",
        "\n",
        "from keras.models import Model\n",
        "from keras.layers import Add\n",
        "from keras.layers.convolutional import Conv2D, MaxPooling2D\n",
        "from keras.layers import Activation, Flatten, Dropout, Input, SeparableConv2D\n",
        "from keras.layers.merge import concatenate\n",
        "from keras.layers.normalization import BatchNormalization\n",
        "from keras.utils import np_utils\n",
        "\n",
        "from keras.datasets import mnist\n",
        "print(datetime.datetime.now())"
      ],
      "execution_count": 2,
      "outputs": [
        {
          "output_type": "stream",
          "text": [
            "2019-06-09 14:52:26.971936\n"
          ],
          "name": "stdout"
        }
      ]
    },
    {
      "cell_type": "markdown",
      "metadata": {
        "id": "zByEi95J86RD",
        "colab_type": "text"
      },
      "source": [
        "### Load pre-shuffled MNIST data into train and test sets"
      ]
    },
    {
      "cell_type": "code",
      "metadata": {
        "id": "7eRM0QWN83PV",
        "colab_type": "code",
        "colab": {
          "base_uri": "https://localhost:8080/",
          "height": 34
        },
        "outputId": "c58f3b23-62c0-43fc-a949-94b78dc8f137"
      },
      "source": [
        "(X_train, y_train), (X_test, y_test) = mnist.load_data()\n",
        "print(datetime.datetime.now())"
      ],
      "execution_count": 3,
      "outputs": [
        {
          "output_type": "stream",
          "text": [
            "2019-06-09 14:52:27.334377\n"
          ],
          "name": "stdout"
        }
      ]
    },
    {
      "cell_type": "code",
      "metadata": {
        "id": "4a4Be72j8-ZC",
        "colab_type": "code",
        "colab": {
          "base_uri": "https://localhost:8080/",
          "height": 303
        },
        "outputId": "e9960942-a9bf-4133-8af9-99b635e31269"
      },
      "source": [
        "print (X_train.shape)\n",
        "from matplotlib import pyplot as plt\n",
        "%matplotlib inline\n",
        "plt.imshow(X_train[0])\n",
        "print(datetime.datetime.now())"
      ],
      "execution_count": 4,
      "outputs": [
        {
          "output_type": "stream",
          "text": [
            "(60000, 28, 28)\n",
            "2019-06-09 14:52:27.374176\n"
          ],
          "name": "stdout"
        },
        {
          "output_type": "display_data",
          "data": {
            "image/png": "[encoded data removed]",
            "text/plain": [
              "<Figure size 432x288 with 1 Axes>"
            ]
          },
          "metadata": {
            "tags": []
          }
        }
      ]
    },
    {
      "cell_type": "code",
      "metadata": {
        "id": "dkmprriw9AnZ",
        "colab_type": "code",
        "colab": {
          "base_uri": "https://localhost:8080/",
          "height": 34
        },
        "outputId": "491fa5ca-87e1-4182-8bff-51187f8aa278"
      },
      "source": [
        "X_train = X_train.reshape(X_train.shape[0], 28, 28,1)\n",
        "X_test = X_test.reshape(X_test.shape[0], 28, 28,1)\n",
        "print(datetime.datetime.now())"
      ],
      "execution_count": 5,
      "outputs": [
        {
          "output_type": "stream",
          "text": [
            "2019-06-09 14:52:27.592039\n"
          ],
          "name": "stdout"
        }
      ]
    },
    {
      "cell_type": "code",
      "metadata": {
        "id": "X2m4YS4E9CRh",
        "colab_type": "code",
        "colab": {
          "base_uri": "https://localhost:8080/",
          "height": 34
        },
        "outputId": "eed3ed75-e8a7-4fae-ee98-7b7a994a6bf5"
      },
      "source": [
        "X_train = X_train.astype('float32')\n",
        "X_test = X_test.astype('float32')\n",
        "X_train /= 255\n",
        "X_test /= 255\n",
        "print(datetime.datetime.now())"
      ],
      "execution_count": 6,
      "outputs": [
        {
          "output_type": "stream",
          "text": [
            "2019-06-09 14:52:27.771480\n"
          ],
          "name": "stdout"
        }
      ]
    },
    {
      "cell_type": "code",
      "metadata": {
        "id": "0Mn0vAYD9DvB",
        "colab_type": "code",
        "colab": {
          "base_uri": "https://localhost:8080/",
          "height": 34
        },
        "outputId": "575cd1b3-a4af-4f34-ad57-bc9552f7bfcd"
      },
      "source": [
        "y_train[:10]\n",
        "print(datetime.datetime.now())"
      ],
      "execution_count": 7,
      "outputs": [
        {
          "output_type": "stream",
          "text": [
            "2019-06-09 14:52:27.784362\n"
          ],
          "name": "stdout"
        }
      ]
    },
    {
      "cell_type": "code",
      "metadata": {
        "id": "ZG8JiXR39FHC",
        "colab_type": "code",
        "colab": {
          "base_uri": "https://localhost:8080/",
          "height": 34
        },
        "outputId": "ba3ec920-99e4-4870-d10f-d8169cdcf21d"
      },
      "source": [
        "# Convert 1-dimensional class arrays to 10-dimensional class matrices\n",
        "Y_train = np_utils.to_categorical(y_train, 10)\n",
        "Y_test = np_utils.to_categorical(y_test, 10)\n",
        "print(datetime.datetime.now())"
      ],
      "execution_count": 8,
      "outputs": [
        {
          "output_type": "stream",
          "text": [
            "2019-06-09 14:52:27.800257\n"
          ],
          "name": "stdout"
        }
      ]
    },
    {
      "cell_type": "code",
      "metadata": {
        "id": "fYlFRvKS9HMB",
        "colab_type": "code",
        "colab": {
          "base_uri": "https://localhost:8080/",
          "height": 34
        },
        "outputId": "b3656812-fc0b-416a-cfc1-b6ef9b64871d"
      },
      "source": [
        "Y_train[:10]\n",
        "print(datetime.datetime.now())"
      ],
      "execution_count": 9,
      "outputs": [
        {
          "output_type": "stream",
          "text": [
            "2019-06-09 14:52:27.812536\n"
          ],
          "name": "stdout"
        }
      ]
    },
    {
      "cell_type": "markdown",
      "metadata": {
        "id": "F1N44tB6m3aY",
        "colab_type": "text"
      },
      "source": [
        "x1 = Input\n",
        "x2 = Conv(x1)\n",
        "x3 = Conv(x1 + x2)\n",
        "x4 = MaxPooling(x1 + x2 + x3)\n",
        "x5 = Conv(x4)\n",
        "x6 = Conv(x4 + x5)\n",
        "x7 = Conv(x4 + x5 + x6)\n",
        "x8 = MaxPooling(x5 + x6 + x7)\n",
        "x9 = Conv(x8)\n",
        "x10 = Conv (x8 + x9)\n",
        "x11 = Conv (x8 + x9 + x10)"
      ]
    },
    {
      "cell_type": "code",
      "metadata": {
        "id": "osKqT73Q9JJB",
        "colab_type": "code",
        "colab": {
          "base_uri": "https://localhost:8080/",
          "height": 258
        },
        "outputId": "d6439f19-9f54-45f5-ce15-bc26923127cf"
      },
      "source": [
        "## MAIN BLOCK\n",
        "\n",
        "from keras.layers import Activation\n",
        "\n",
        "x1 = Input(shape=(28,28,1))\n",
        "x2 = Conv2D(32, kernel_size=(3,3), border_mode='same', activation='relu')(x1) #26\n",
        "\n",
        "x31 = keras.layers.add([x1, x2])\n",
        "x3 = Conv2D(32, kernel_size=(3,3), border_mode='same', activation='relu')(x31) #26\n",
        "\n",
        "x41=keras.layers.add([x1,x2,x3])\n",
        "x4 = MaxPooling2D(pool_size=(2, 2))(x41) #13\n",
        "\n",
        "x5 = Conv2D(32, kernel_size=(3,3), border_mode='same', activation='relu')(x4) #13\n",
        "\n",
        "x61=keras.layers.add([x4,x5])\n",
        "x6=Conv2D(32, kernel_size=(3,3), border_mode='same', activation='relu')(x61) #13\n",
        "\n",
        "x71 = keras.layers.add([x4,x5,x6])\n",
        "x7 = Conv2D(32, kernel_size=(3,3), border_mode='same', activation='relu')(x71) #13\n",
        "\n",
        "x81 = keras.layers.add([x5,x6,x7])\n",
        "x8 = MaxPooling2D(pool_size=(2, 2))(x81)  #6\n",
        "\n",
        "x9 = Conv2D(32, kernel_size=(3,3), border_mode='same', activation='relu')(x8) #6\n",
        "\n",
        "x101=keras.layers.add([x8,x9])\n",
        "x10 = Conv2D(32, kernel_size=(3,3), border_mode='same', activation='relu')(x101) #6\n",
        "\n",
        "x111 = keras.layers.add([x8,x9,x10])\n",
        "x11 = Conv2D(64, kernel_size=(3,3), border_mode='same', activation='relu')(x111) #6\n",
        "\n",
        "x12 = Conv2D(32, kernel_size=(7,7), activation='relu')(x11)\n",
        "x13 = Conv2D(10, kernel_size=(1,1))(x12)\n",
        "\n",
        "flat = Flatten()(x13)\n",
        "out1=Activation('softmax')(flat)\n",
        "\n",
        "print(datetime.datetime.now())\n",
        "\n",
        "# prediction output\n",
        "model = Model(inputs=x1, outputs=out1)\n",
        "\n",
        "# Compile the model\n",
        "#model.compile(optimizer='adam', loss='categorical_crossentropy', metrics=['accuracy'])\n",
        "\n",
        "#model = Sequential()\n",
        "#model.add(Convolution2D(32, 3, 3, activation='relu', input_shape=(28,28,1)))\n",
        "#model.add(Convolution2D(10, 1, activation='relu'))\n",
        "#model.add(Convolution2D(10, 26))\n",
        "#model.add(Flatten())\n",
        "#model.add(Activation('softmax'))\n"
      ],
      "execution_count": 22,
      "outputs": [
        {
          "output_type": "stream",
          "text": [
            "2019-06-09 15:02:06.237215\n"
          ],
          "name": "stdout"
        },
        {
          "output_type": "stream",
          "text": [
            "/usr/local/lib/python3.6/dist-packages/ipykernel_launcher.py:5: UserWarning: Update your `Conv2D` call to the Keras 2 API: `Conv2D(32, kernel_size=(3, 3), activation=\"relu\", padding=\"same\")`\n",
            "  \"\"\"\n",
            "/usr/local/lib/python3.6/dist-packages/ipykernel_launcher.py:8: UserWarning: Update your `Conv2D` call to the Keras 2 API: `Conv2D(32, kernel_size=(3, 3), activation=\"relu\", padding=\"same\")`\n",
            "  \n",
            "/usr/local/lib/python3.6/dist-packages/ipykernel_launcher.py:13: UserWarning: Update your `Conv2D` call to the Keras 2 API: `Conv2D(32, kernel_size=(3, 3), activation=\"relu\", padding=\"same\")`\n",
            "  del sys.path[0]\n",
            "/usr/local/lib/python3.6/dist-packages/ipykernel_launcher.py:16: UserWarning: Update your `Conv2D` call to the Keras 2 API: `Conv2D(32, kernel_size=(3, 3), activation=\"relu\", padding=\"same\")`\n",
            "  app.launch_new_instance()\n",
            "/usr/local/lib/python3.6/dist-packages/ipykernel_launcher.py:19: UserWarning: Update your `Conv2D` call to the Keras 2 API: `Conv2D(32, kernel_size=(3, 3), activation=\"relu\", padding=\"same\")`\n",
            "/usr/local/lib/python3.6/dist-packages/ipykernel_launcher.py:24: UserWarning: Update your `Conv2D` call to the Keras 2 API: `Conv2D(32, kernel_size=(3, 3), activation=\"relu\", padding=\"same\")`\n",
            "/usr/local/lib/python3.6/dist-packages/ipykernel_launcher.py:27: UserWarning: Update your `Conv2D` call to the Keras 2 API: `Conv2D(32, kernel_size=(3, 3), activation=\"relu\", padding=\"same\")`\n",
            "/usr/local/lib/python3.6/dist-packages/ipykernel_launcher.py:30: UserWarning: Update your `Conv2D` call to the Keras 2 API: `Conv2D(64, kernel_size=(3, 3), activation=\"relu\", padding=\"same\")`\n"
          ],
          "name": "stderr"
        }
      ]
    },
    {
      "cell_type": "code",
      "metadata": {
        "id": "TzdAYg1k9K7Z",
        "colab_type": "code",
        "colab": {
          "base_uri": "https://localhost:8080/",
          "height": 1088
        },
        "outputId": "080a28c3-59df-4609-a478-472d8e5ba36e"
      },
      "source": [
        "model.summary()\n",
        "\n",
        "print(datetime.datetime.now())"
      ],
      "execution_count": 23,
      "outputs": [
        {
          "output_type": "stream",
          "text": [
            "__________________________________________________________________________________________________\n",
            "Layer (type)                    Output Shape         Param #     Connected to                     \n",
            "==================================================================================================\n",
            "input_7 (InputLayer)            (None, 28, 28, 1)    0                                            \n",
            "__________________________________________________________________________________________________\n",
            "conv2d_60 (Conv2D)              (None, 28, 28, 32)   320         input_7[0][0]                    \n",
            "__________________________________________________________________________________________________\n",
            "add_43 (Add)                    (None, 28, 28, 32)   0           input_7[0][0]                    \n",
            "                                                                 conv2d_60[0][0]                  \n",
            "__________________________________________________________________________________________________\n",
            "conv2d_61 (Conv2D)              (None, 28, 28, 32)   9248        add_43[0][0]                     \n",
            "__________________________________________________________________________________________________\n",
            "add_44 (Add)                    (None, 28, 28, 32)   0           input_7[0][0]                    \n",
            "                                                                 conv2d_60[0][0]                  \n",
            "                                                                 conv2d_61[0][0]                  \n",
            "__________________________________________________________________________________________________\n",
            "max_pooling2d_13 (MaxPooling2D) (None, 14, 14, 32)   0           add_44[0][0]                     \n",
            "__________________________________________________________________________________________________\n",
            "conv2d_62 (Conv2D)              (None, 14, 14, 32)   9248        max_pooling2d_13[0][0]           \n",
            "__________________________________________________________________________________________________\n",
            "add_45 (Add)                    (None, 14, 14, 32)   0           max_pooling2d_13[0][0]           \n",
            "                                                                 conv2d_62[0][0]                  \n",
            "__________________________________________________________________________________________________\n",
            "conv2d_63 (Conv2D)              (None, 14, 14, 32)   9248        add_45[0][0]                     \n",
            "__________________________________________________________________________________________________\n",
            "add_46 (Add)                    (None, 14, 14, 32)   0           max_pooling2d_13[0][0]           \n",
            "                                                                 conv2d_62[0][0]                  \n",
            "                                                                 conv2d_63[0][0]                  \n",
            "__________________________________________________________________________________________________\n",
            "conv2d_64 (Conv2D)              (None, 14, 14, 32)   9248        add_46[0][0]                     \n",
            "__________________________________________________________________________________________________\n",
            "add_47 (Add)                    (None, 14, 14, 32)   0           conv2d_62[0][0]                  \n",
            "                                                                 conv2d_63[0][0]                  \n",
            "                                                                 conv2d_64[0][0]                  \n",
            "__________________________________________________________________________________________________\n",
            "max_pooling2d_14 (MaxPooling2D) (None, 7, 7, 32)     0           add_47[0][0]                     \n",
            "__________________________________________________________________________________________________\n",
            "conv2d_65 (Conv2D)              (None, 7, 7, 32)     9248        max_pooling2d_14[0][0]           \n",
            "__________________________________________________________________________________________________\n",
            "add_48 (Add)                    (None, 7, 7, 32)     0           max_pooling2d_14[0][0]           \n",
            "                                                                 conv2d_65[0][0]                  \n",
            "__________________________________________________________________________________________________\n",
            "conv2d_66 (Conv2D)              (None, 7, 7, 32)     9248        add_48[0][0]                     \n",
            "__________________________________________________________________________________________________\n",
            "add_49 (Add)                    (None, 7, 7, 32)     0           max_pooling2d_14[0][0]           \n",
            "                                                                 conv2d_65[0][0]                  \n",
            "                                                                 conv2d_66[0][0]                  \n",
            "__________________________________________________________________________________________________\n",
            "conv2d_67 (Conv2D)              (None, 7, 7, 64)     18496       add_49[0][0]                     \n",
            "__________________________________________________________________________________________________\n",
            "conv2d_68 (Conv2D)              (None, 1, 1, 32)     100384      conv2d_67[0][0]                  \n",
            "__________________________________________________________________________________________________\n",
            "conv2d_69 (Conv2D)              (None, 1, 1, 10)     330         conv2d_68[0][0]                  \n",
            "__________________________________________________________________________________________________\n",
            "flatten_3 (Flatten)             (None, 10)           0           conv2d_69[0][0]                  \n",
            "__________________________________________________________________________________________________\n",
            "activation_2 (Activation)       (None, 10)           0           flatten_3[0][0]                  \n",
            "==================================================================================================\n",
            "Total params: 175,018\n",
            "Trainable params: 175,018\n",
            "Non-trainable params: 0\n",
            "__________________________________________________________________________________________________\n",
            "2019-06-09 15:02:11.119348\n"
          ],
          "name": "stdout"
        }
      ]
    },
    {
      "cell_type": "code",
      "metadata": {
        "id": "Zp6SuGrL9M3h",
        "colab_type": "code",
        "colab": {
          "base_uri": "https://localhost:8080/",
          "height": 34
        },
        "outputId": "356d7a25-5c18-4381-b1f3-24d243e0583e"
      },
      "source": [
        "model.compile(loss='categorical_crossentropy',\n",
        "             optimizer='adam',\n",
        "             metrics=['accuracy'])\n",
        "print(datetime.datetime.now())"
      ],
      "execution_count": 24,
      "outputs": [
        {
          "output_type": "stream",
          "text": [
            "2019-06-09 15:02:16.940787\n"
          ],
          "name": "stdout"
        }
      ]
    },
    {
      "cell_type": "code",
      "metadata": {
        "id": "4xWoKhPY9Of5",
        "colab_type": "code",
        "colab": {
          "base_uri": "https://localhost:8080/",
          "height": 479
        },
        "outputId": "189497d5-03c4-48e1-cd03-f1f00c355923"
      },
      "source": [
        "model.fit(X_train, Y_train, batch_size=32, nb_epoch=10, verbose=1)\n",
        "print(datetime.datetime.now())"
      ],
      "execution_count": 25,
      "outputs": [
        {
          "output_type": "stream",
          "text": [
            "WARNING:tensorflow:From /usr/local/lib/python3.6/dist-packages/tensorflow/python/ops/math_ops.py:3066: to_int32 (from tensorflow.python.ops.math_ops) is deprecated and will be removed in a future version.\n",
            "Instructions for updating:\n",
            "Use tf.cast instead.\n"
          ],
          "name": "stdout"
        },
        {
          "output_type": "stream",
          "text": [
            "/usr/local/lib/python3.6/dist-packages/ipykernel_launcher.py:1: UserWarning: The `nb_epoch` argument in `fit` has been renamed `epochs`.\n",
            "  \"\"\"Entry point for launching an IPython kernel.\n"
          ],
          "name": "stderr"
        },
        {
          "output_type": "stream",
          "text": [
            "Epoch 1/10\n",
            "60000/60000 [==============================] - 32s 533us/step - loss: 0.2020 - acc: 0.9361\n",
            "Epoch 2/10\n",
            "60000/60000 [==============================] - 29s 488us/step - loss: 0.0566 - acc: 0.9826\n",
            "Epoch 3/10\n",
            "60000/60000 [==============================] - 29s 488us/step - loss: 0.0463 - acc: 0.9859\n",
            "Epoch 4/10\n",
            "60000/60000 [==============================] - 29s 484us/step - loss: 0.0379 - acc: 0.9887\n",
            "Epoch 5/10\n",
            "60000/60000 [==============================] - 29s 482us/step - loss: 0.0304 - acc: 0.9904\n",
            "Epoch 6/10\n",
            "60000/60000 [==============================] - 29s 483us/step - loss: 0.0264 - acc: 0.9918\n",
            "Epoch 7/10\n",
            "60000/60000 [==============================] - 29s 483us/step - loss: 0.0237 - acc: 0.9925\n",
            "Epoch 8/10\n",
            "60000/60000 [==============================] - 29s 482us/step - loss: 0.0222 - acc: 0.9931\n",
            "Epoch 9/10\n",
            "60000/60000 [==============================] - 29s 483us/step - loss: 0.0202 - acc: 0.9941\n",
            "Epoch 10/10\n",
            "60000/60000 [==============================] - 29s 484us/step - loss: 0.0168 - acc: 0.9950\n",
            "2019-06-09 15:07:14.023357\n"
          ],
          "name": "stdout"
        }
      ]
    },
    {
      "cell_type": "code",
      "metadata": {
        "id": "AtsH-lLk-eLb",
        "colab_type": "code",
        "colab": {
          "base_uri": "https://localhost:8080/",
          "height": 34
        },
        "outputId": "d9da64f7-f863-490e-dcca-4b398ec51c32"
      },
      "source": [
        "score = model.evaluate(X_test, Y_test, verbose=0)\n",
        "print(datetime.datetime.now())"
      ],
      "execution_count": 28,
      "outputs": [
        {
          "output_type": "stream",
          "text": [
            "2019-06-09 15:07:23.214429\n"
          ],
          "name": "stdout"
        }
      ]
    },
    {
      "cell_type": "code",
      "metadata": {
        "id": "mkX8JMv79q9r",
        "colab_type": "code",
        "colab": {
          "base_uri": "https://localhost:8080/",
          "height": 51
        },
        "outputId": "e2040f32-e0ac-4544-a8ee-4828f4248fa4"
      },
      "source": [
        "print(score)\n",
        "print(datetime.datetime.now())"
      ],
      "execution_count": 29,
      "outputs": [
        {
          "output_type": "stream",
          "text": [
            "[0.053674268910785715, 0.9888]\n",
            "2019-06-09 15:07:25.994357\n"
          ],
          "name": "stdout"
        }
      ]
    }
  ]
}